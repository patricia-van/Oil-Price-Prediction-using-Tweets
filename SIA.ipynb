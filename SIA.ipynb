{
 "cells": [
  {
   "cell_type": "code",
   "execution_count": null,
   "metadata": {},
   "outputs": [],
   "source": [
    "# Instantiate SIA class\n",
    "analyser = SentimentIntensityAnalyzer()\n",
    "sentiment_score = []\n",
    "for tweet in tweets_df['rawContent']:\n",
    "  sentiment_score.append(analyser.polarity_scores(tweet))\n",
    "\n",
    "#@title Extract Sentiment Score Elements\n",
    "sentiment_prop_negative = []\n",
    "sentiment_prop_positive = []\n",
    "sentiment_prop_neutral = []\n",
    "sentiment_score_compound = []\n",
    "for item in sentiment_score:\n",
    "  sentiment_prop_negative.append(item['neg'])\n",
    "  sentiment_prop_positive.append(item['neu'])\n",
    "  sentiment_prop_neutral.append(item['pos'])\n",
    "  sentiment_score_compound.append(item['compound'])\n",
    "# Append to tweets DataFrame\n",
    "tweets_df['sentiment_prop_negative'] = sentiment_prop_negative\n",
    "tweets_df['sentiment_prop_positive'] = sentiment_prop_positive\n",
    "tweets_df['sentiment_prop_neutral'] = sentiment_prop_neutral\n",
    "tweets_df['sentiment_score_compound'] = sentiment_score_compound\n",
    "tweets_df.tail()\n"
   ]
  },
  {
   "cell_type": "code",
   "execution_count": null,
   "metadata": {},
   "outputs": [],
   "source": [
    "# Group by date and calculate daily average for each column\n",
    "daily_sentiment = tweets_df.loc[:, ['date', 'sentiment_prop_negative','sentiment_prop_positive',\n",
    "                                         'sentiment_prop_neutral','sentiment_score_compound']]\n",
    "daily_sentiment = daily_sentiment.groupby('date').mean()\n",
    "# daily_avg_sentiment = daily_avg_sentiment[(daily_avg_sentiment.index >= '2024-01-01') & (daily_avg_sentiment.index <= '2024-01-31')]\n",
    "daily_sentiment = daily_sentiment.rolling(window=14).mean()\n",
    "\n",
    "\n",
    "# Plotting\n",
    "sns.set_theme()\n",
    "plt.figure(figsize=(10, 6))\n",
    "\n",
    "# Plot daily average positive sentiment\n",
    "plt.subplot(3, 1, 1)\n",
    "plt.plot(daily_sentiment['sentiment_prop_positive'], linestyle='-', color='b')\n",
    "plt.title('Daily Average Positive Sentiment')\n",
    "plt.xlabel('Date')\n",
    "plt.ylabel('Score')\n",
    "\n",
    "# Plot daily average negative sentiment\n",
    "plt.subplot(3, 1, 2)\n",
    "plt.plot(daily_sentiment['sentiment_prop_negative'], linestyle='-', color='r')\n",
    "plt.title('Daily Average Negative Sentiment')\n",
    "plt.xlabel('Date')\n",
    "plt.ylabel('Score')\n",
    "\n",
    "# Plot daily average compound sentiment\n",
    "plt.subplot(3, 1, 3)\n",
    "plt.plot(daily_sentiment['sentiment_score_compound'], linestyle='-', color='g')\n",
    "plt.title('Daily Average Compound Sentiment')\n",
    "plt.xlabel('Date')\n",
    "plt.ylabel('Score')\n",
    "\n",
    "plt.tight_layout()\n",
    "plt.show()"
   ]
  }
 ],
 "metadata": {
  "language_info": {
   "name": "python"
  }
 },
 "nbformat": 4,
 "nbformat_minor": 2
}
