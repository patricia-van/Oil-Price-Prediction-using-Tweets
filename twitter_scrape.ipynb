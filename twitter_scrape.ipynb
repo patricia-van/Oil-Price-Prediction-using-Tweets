{
 "cells": [
  {
   "cell_type": "code",
   "execution_count": 4,
   "metadata": {},
   "outputs": [],
   "source": [
    "import json\n",
    "import asyncio\n",
    "from twscrape import API, gather\n",
    "from twscrape.logger import set_log_level\n",
    "from datetime import datetime, timedelta"
   ]
  },
  {
   "cell_type": "code",
   "execution_count": 5,
   "metadata": {},
   "outputs": [
    {
     "name": "stdout",
     "output_type": "stream",
     "text": [
      "badeebo:(Badeebo123)!:badeebo99@gmail.com:(Badeebo123)!\n"
     ]
    }
   ],
   "source": [
    "with open('Data/accounts.txt') as f:\n",
    "    # Read the contents of the file into a variable\n",
    "    acc = f.read()\n",
    "    \n",
    "    # Print the names\n",
    "    print(acc)\n",
    "    u_name, pwd, email, email_pwd = acc.split(':')\n",
    "\n",
    "f.close()"
   ]
  },
  {
   "cell_type": "code",
   "execution_count": 6,
   "metadata": {},
   "outputs": [
    {
     "name": "stderr",
     "output_type": "stream",
     "text": [
      "\u001b[32m2024-10-03 22:34:35.551\u001b[0m | \u001b[33m\u001b[1mWARNING \u001b[0m | \u001b[36mtwscrape.accounts_pool\u001b[0m:\u001b[36madd_account\u001b[0m:\u001b[36m88\u001b[0m - \u001b[33m\u001b[1mAccount badeebo already exists\u001b[0m\n"
     ]
    },
    {
     "name": "stdout",
     "output_type": "stream",
     "text": [
      "SUCESSFUL LOGIN\n"
     ]
    }
   ],
   "source": [
    "api = API('Data/accounts.db')  # or API(\"path-to.db\") - default is `accounts.db`\n",
    "\n",
    "# ADD ACCOUNTS \n",
    "await api.pool.add_account(u_name, pwd, email, email_pwd)\n",
    "await api.pool.login_all()\n",
    "\n",
    "# change log level, default info\n",
    "set_log_level(\"DEBUG\")\n",
    "\n",
    "print('SUCESSFUL LOGIN')"
   ]
  },
  {
   "cell_type": "code",
   "execution_count": 7,
   "metadata": {},
   "outputs": [],
   "source": [
    "# SEACRH TWEETS\n",
    "# topic = '(crude OR oil)'\n",
    "# source = '(from:Bloomberg OR from:Reuters OR from:WSJ OR from:WSJWorld OR from:FT)'\n",
    "topic = '#crudeoil OR #WTI OR #BRENT OR #oilprices OR #oott' \n",
    "source = ''\n",
    "data_json = []"
   ]
  },
  {
   "cell_type": "code",
   "execution_count": 8,
   "metadata": {},
   "outputs": [
    {
     "name": "stdout",
     "output_type": "stream",
     "text": [
      "2024-06-01 00:00:00\n",
      "2024-06-02 00:00:00\n",
      "2024-06-03 00:00:00\n",
      "2024-06-04 00:00:00\n",
      "2024-06-05 00:00:00\n",
      "2024-06-06 00:00:00\n",
      "2024-06-07 00:00:00\n",
      "2024-06-08 00:00:00\n",
      "2024-06-09 00:00:00\n"
     ]
    },
    {
     "name": "stderr",
     "output_type": "stream",
     "text": [
      "\u001b[32m2024-10-03 22:39:12.586\u001b[0m | \u001b[33m\u001b[1mWARNING \u001b[0m | \u001b[36mtwscrape.models\u001b[0m:\u001b[36m_parse_card\u001b[0m:\u001b[36m502\u001b[0m - \u001b[33m\u001b[1mUnknown card type '3691233323:audiospace' on https://twitter.com/anasalhajji/status/1799909445159239726\u001b[0m\n",
      "\u001b[32m2024-10-03 22:39:12.587\u001b[0m | \u001b[33m\u001b[1mWARNING \u001b[0m | \u001b[36mtwscrape.models\u001b[0m:\u001b[36m_parse_card\u001b[0m:\u001b[36m502\u001b[0m - \u001b[33m\u001b[1mUnknown card type '3691233323:audiospace' on https://twitter.com/anasalhajji/status/1799909445159239726\u001b[0m\n"
     ]
    },
    {
     "name": "stdout",
     "output_type": "stream",
     "text": [
      "2024-06-10 00:00:00\n",
      "2024-06-11 00:00:00\n",
      "2024-06-12 00:00:00\n"
     ]
    },
    {
     "name": "stderr",
     "output_type": "stream",
     "text": [
      "\u001b[32m2024-10-03 22:39:24.940\u001b[0m | \u001b[34m\u001b[1mDEBUG   \u001b[0m | \u001b[36mtwscrape.queue_client\u001b[0m:\u001b[36m_check_rep\u001b[0m:\u001b[36m146\u001b[0m - \u001b[34m\u001b[1mRate limited: 200 -  0/50 - badeebo - OK\u001b[0m\n",
      "\u001b[32m2024-10-03 22:39:24.946\u001b[0m | \u001b[1mINFO    \u001b[0m | \u001b[36mtwscrape.accounts_pool\u001b[0m:\u001b[36mget_for_queue_or_wait\u001b[0m:\u001b[36m301\u001b[0m - \u001b[1mNo account available for queue \"SearchTimeline\". Next available at 22:53:39\u001b[0m\n",
      "\u001b[32m2024-10-03 22:53:40.746\u001b[0m | \u001b[1mINFO    \u001b[0m | \u001b[36mtwscrape.accounts_pool\u001b[0m:\u001b[36mget_for_queue_or_wait\u001b[0m:\u001b[36m308\u001b[0m - \u001b[1mContinuing with account badeebo on queue SearchTimeline\u001b[0m\n"
     ]
    },
    {
     "name": "stdout",
     "output_type": "stream",
     "text": [
      "2024-06-13 00:00:00\n",
      "2024-06-14 00:00:00\n",
      "2024-06-15 00:00:00\n",
      "2024-06-16 00:00:00\n",
      "2024-06-17 00:00:00\n"
     ]
    },
    {
     "name": "stderr",
     "output_type": "stream",
     "text": [
      "\u001b[32m2024-10-03 22:53:58.535\u001b[0m | \u001b[33m\u001b[1mWARNING \u001b[0m | \u001b[36mtwscrape.models\u001b[0m:\u001b[36m_parse_card\u001b[0m:\u001b[36m502\u001b[0m - \u001b[33m\u001b[1mUnknown card type 'app' on https://twitter.com/1RudyWatson/status/1802843835401228698\u001b[0m\n"
     ]
    },
    {
     "name": "stdout",
     "output_type": "stream",
     "text": [
      "2024-06-18 00:00:00\n",
      "2024-06-19 00:00:00\n",
      "2024-06-20 00:00:00\n",
      "2024-06-21 00:00:00\n",
      "2024-06-22 00:00:00\n",
      "2024-06-23 00:00:00\n",
      "2024-06-24 00:00:00\n",
      "2024-06-25 00:00:00\n"
     ]
    },
    {
     "name": "stderr",
     "output_type": "stream",
     "text": [
      "\u001b[32m2024-10-03 22:54:30.989\u001b[0m | \u001b[34m\u001b[1mDEBUG   \u001b[0m | \u001b[36mtwscrape.queue_client\u001b[0m:\u001b[36m_check_rep\u001b[0m:\u001b[36m146\u001b[0m - \u001b[34m\u001b[1mRate limited: 200 -  0/50 - badeebo - OK\u001b[0m\n",
      "\u001b[32m2024-10-03 22:54:30.996\u001b[0m | \u001b[1mINFO    \u001b[0m | \u001b[36mtwscrape.accounts_pool\u001b[0m:\u001b[36mget_for_queue_or_wait\u001b[0m:\u001b[36m301\u001b[0m - \u001b[1mNo account available for queue \"SearchTimeline\". Next available at 23:08:41\u001b[0m\n",
      "\u001b[32m2024-10-03 23:08:47.005\u001b[0m | \u001b[1mINFO    \u001b[0m | \u001b[36mtwscrape.accounts_pool\u001b[0m:\u001b[36mget_for_queue_or_wait\u001b[0m:\u001b[36m308\u001b[0m - \u001b[1mContinuing with account badeebo on queue SearchTimeline\u001b[0m\n"
     ]
    },
    {
     "name": "stdout",
     "output_type": "stream",
     "text": [
      "2024-06-26 00:00:00\n",
      "2024-06-27 00:00:00\n",
      "2024-06-28 00:00:00\n",
      "2024-06-29 00:00:00\n",
      "2024-06-30 00:00:00\n",
      "output file: Tweets/tweets_jun24.json\n",
      "2024-07-01 00:00:00\n",
      "2024-07-02 00:00:00\n",
      "2024-07-03 00:00:00\n",
      "2024-07-04 00:00:00\n",
      "2024-07-05 00:00:00\n",
      "2024-07-06 00:00:00\n",
      "2024-07-07 00:00:00\n",
      "2024-07-08 00:00:00\n",
      "2024-07-09 00:00:00\n"
     ]
    },
    {
     "name": "stderr",
     "output_type": "stream",
     "text": [
      "\u001b[32m2024-10-03 23:09:38.501\u001b[0m | \u001b[34m\u001b[1mDEBUG   \u001b[0m | \u001b[36mtwscrape.queue_client\u001b[0m:\u001b[36m_check_rep\u001b[0m:\u001b[36m146\u001b[0m - \u001b[34m\u001b[1mRate limited: 200 -  0/50 - badeebo - OK\u001b[0m\n",
      "\u001b[32m2024-10-03 23:09:38.512\u001b[0m | \u001b[1mINFO    \u001b[0m | \u001b[36mtwscrape.accounts_pool\u001b[0m:\u001b[36mget_for_queue_or_wait\u001b[0m:\u001b[36m301\u001b[0m - \u001b[1mNo account available for queue \"SearchTimeline\". Next available at 23:23:47\u001b[0m\n",
      "\u001b[32m2024-10-03 23:23:49.452\u001b[0m | \u001b[1mINFO    \u001b[0m | \u001b[36mtwscrape.accounts_pool\u001b[0m:\u001b[36mget_for_queue_or_wait\u001b[0m:\u001b[36m308\u001b[0m - \u001b[1mContinuing with account badeebo on queue SearchTimeline\u001b[0m\n"
     ]
    },
    {
     "name": "stdout",
     "output_type": "stream",
     "text": [
      "2024-07-10 00:00:00\n",
      "2024-07-11 00:00:00\n",
      "2024-07-12 00:00:00\n",
      "2024-07-13 00:00:00\n",
      "2024-07-14 00:00:00\n",
      "2024-07-15 00:00:00\n",
      "2024-07-16 00:00:00\n",
      "2024-07-17 00:00:00\n",
      "2024-07-18 00:00:00\n",
      "2024-07-19 00:00:00\n",
      "2024-07-20 00:00:00\n",
      "2024-07-21 00:00:00\n",
      "2024-07-22 00:00:00\n"
     ]
    },
    {
     "name": "stderr",
     "output_type": "stream",
     "text": [
      "\u001b[32m2024-10-03 23:24:39.870\u001b[0m | \u001b[34m\u001b[1mDEBUG   \u001b[0m | \u001b[36mtwscrape.queue_client\u001b[0m:\u001b[36m_check_rep\u001b[0m:\u001b[36m146\u001b[0m - \u001b[34m\u001b[1mRate limited: 200 -  0/50 - badeebo - OK\u001b[0m\n",
      "\u001b[32m2024-10-03 23:24:39.882\u001b[0m | \u001b[1mINFO    \u001b[0m | \u001b[36mtwscrape.accounts_pool\u001b[0m:\u001b[36mget_for_queue_or_wait\u001b[0m:\u001b[36m301\u001b[0m - \u001b[1mNo account available for queue \"SearchTimeline\". Next available at 23:38:49\u001b[0m\n",
      "\u001b[32m2024-10-03 23:38:50.806\u001b[0m | \u001b[1mINFO    \u001b[0m | \u001b[36mtwscrape.accounts_pool\u001b[0m:\u001b[36mget_for_queue_or_wait\u001b[0m:\u001b[36m308\u001b[0m - \u001b[1mContinuing with account badeebo on queue SearchTimeline\u001b[0m\n"
     ]
    },
    {
     "name": "stdout",
     "output_type": "stream",
     "text": [
      "2024-07-23 00:00:00\n",
      "2024-07-24 00:00:00\n",
      "2024-07-25 00:00:00\n"
     ]
    },
    {
     "name": "stderr",
     "output_type": "stream",
     "text": [
      "\u001b[32m2024-10-03 23:39:02.721\u001b[0m | \u001b[33m\u001b[1mWARNING \u001b[0m | \u001b[36mtwscrape.models\u001b[0m:\u001b[36m_parse_card\u001b[0m:\u001b[36m502\u001b[0m - \u001b[33m\u001b[1mUnknown card type '3691233323:audiospace' on https://twitter.com/TyberiusMaximus/status/1816607908769001764\u001b[0m\n"
     ]
    },
    {
     "name": "stdout",
     "output_type": "stream",
     "text": [
      "2024-07-26 00:00:00\n",
      "2024-07-27 00:00:00\n",
      "2024-07-28 00:00:00\n",
      "2024-07-29 00:00:00\n",
      "2024-07-30 00:00:00\n",
      "2024-07-31 00:00:00\n",
      "output file: Tweets/tweets_jul24.json\n",
      "2024-08-01 00:00:00\n",
      "2024-08-02 00:00:00\n",
      "2024-08-03 00:00:00\n",
      "2024-08-04 00:00:00\n"
     ]
    },
    {
     "name": "stderr",
     "output_type": "stream",
     "text": [
      "\u001b[32m2024-10-03 23:39:38.684\u001b[0m | \u001b[34m\u001b[1mDEBUG   \u001b[0m | \u001b[36mtwscrape.queue_client\u001b[0m:\u001b[36m_check_rep\u001b[0m:\u001b[36m146\u001b[0m - \u001b[34m\u001b[1mRate limited: 200 -  0/50 - badeebo - OK\u001b[0m\n",
      "\u001b[32m2024-10-03 23:39:38.695\u001b[0m | \u001b[1mINFO    \u001b[0m | \u001b[36mtwscrape.accounts_pool\u001b[0m:\u001b[36mget_for_queue_or_wait\u001b[0m:\u001b[36m301\u001b[0m - \u001b[1mNo account available for queue \"SearchTimeline\". Next available at 23:53:51\u001b[0m\n",
      "\u001b[32m2024-10-03 23:53:54.586\u001b[0m | \u001b[1mINFO    \u001b[0m | \u001b[36mtwscrape.accounts_pool\u001b[0m:\u001b[36mget_for_queue_or_wait\u001b[0m:\u001b[36m308\u001b[0m - \u001b[1mContinuing with account badeebo on queue SearchTimeline\u001b[0m\n"
     ]
    },
    {
     "name": "stdout",
     "output_type": "stream",
     "text": [
      "2024-08-05 00:00:00\n",
      "2024-08-06 00:00:00\n",
      "2024-08-07 00:00:00\n",
      "2024-08-08 00:00:00\n",
      "2024-08-09 00:00:00\n",
      "2024-08-10 00:00:00\n",
      "2024-08-11 00:00:00\n",
      "2024-08-12 00:00:00\n",
      "2024-08-13 00:00:00\n",
      "2024-08-14 00:00:00\n",
      "2024-08-15 00:00:00\n",
      "2024-08-16 00:00:00\n",
      "2024-08-17 00:00:00\n"
     ]
    },
    {
     "name": "stderr",
     "output_type": "stream",
     "text": [
      "\u001b[32m2024-10-03 23:54:40.367\u001b[0m | \u001b[34m\u001b[1mDEBUG   \u001b[0m | \u001b[36mtwscrape.queue_client\u001b[0m:\u001b[36m_check_rep\u001b[0m:\u001b[36m146\u001b[0m - \u001b[34m\u001b[1mRate limited: 200 -  0/50 - badeebo - OK\u001b[0m\n",
      "\u001b[32m2024-10-03 23:54:40.373\u001b[0m | \u001b[1mINFO    \u001b[0m | \u001b[36mtwscrape.accounts_pool\u001b[0m:\u001b[36mget_for_queue_or_wait\u001b[0m:\u001b[36m301\u001b[0m - \u001b[1mNo account available for queue \"SearchTimeline\". Next available at 00:08:54\u001b[0m\n",
      "\u001b[32m2024-10-04 00:08:56.343\u001b[0m | \u001b[1mINFO    \u001b[0m | \u001b[36mtwscrape.accounts_pool\u001b[0m:\u001b[36mget_for_queue_or_wait\u001b[0m:\u001b[36m308\u001b[0m - \u001b[1mContinuing with account badeebo on queue SearchTimeline\u001b[0m\n"
     ]
    },
    {
     "name": "stdout",
     "output_type": "stream",
     "text": [
      "2024-08-18 00:00:00\n",
      "2024-08-19 00:00:00\n",
      "2024-08-20 00:00:00\n",
      "2024-08-21 00:00:00\n",
      "2024-08-22 00:00:00\n",
      "2024-08-23 00:00:00\n",
      "2024-08-24 00:00:00\n",
      "2024-08-25 00:00:00\n",
      "2024-08-26 00:00:00\n",
      "2024-08-27 00:00:00\n",
      "2024-08-28 00:00:00\n",
      "2024-08-29 00:00:00\n",
      "2024-08-30 00:00:00\n"
     ]
    },
    {
     "name": "stderr",
     "output_type": "stream",
     "text": [
      "\u001b[32m2024-10-04 00:09:41.350\u001b[0m | \u001b[34m\u001b[1mDEBUG   \u001b[0m | \u001b[36mtwscrape.queue_client\u001b[0m:\u001b[36m_check_rep\u001b[0m:\u001b[36m146\u001b[0m - \u001b[34m\u001b[1mRate limited: 200 -  0/50 - badeebo - OK\u001b[0m\n",
      "\u001b[32m2024-10-04 00:09:41.360\u001b[0m | \u001b[1mINFO    \u001b[0m | \u001b[36mtwscrape.accounts_pool\u001b[0m:\u001b[36mget_for_queue_or_wait\u001b[0m:\u001b[36m301\u001b[0m - \u001b[1mNo account available for queue \"SearchTimeline\". Next available at 00:23:56\u001b[0m\n",
      "\u001b[32m2024-10-04 00:23:57.440\u001b[0m | \u001b[1mINFO    \u001b[0m | \u001b[36mtwscrape.accounts_pool\u001b[0m:\u001b[36mget_for_queue_or_wait\u001b[0m:\u001b[36m308\u001b[0m - \u001b[1mContinuing with account badeebo on queue SearchTimeline\u001b[0m\n"
     ]
    },
    {
     "name": "stdout",
     "output_type": "stream",
     "text": [
      "2024-08-31 00:00:00\n",
      "output file: Tweets/tweets_aug24.json\n",
      "2024-09-01 00:00:00\n",
      "2024-09-02 00:00:00\n",
      "2024-09-03 00:00:00\n",
      "2024-09-04 00:00:00\n",
      "2024-09-05 00:00:00\n",
      "2024-09-06 00:00:00\n",
      "2024-09-07 00:00:00\n",
      "2024-09-08 00:00:00\n",
      "2024-09-09 00:00:00\n",
      "2024-09-10 00:00:00\n",
      "2024-09-11 00:00:00\n",
      "2024-09-12 00:00:00\n"
     ]
    },
    {
     "name": "stderr",
     "output_type": "stream",
     "text": [
      "\u001b[32m2024-10-04 00:24:41.809\u001b[0m | \u001b[34m\u001b[1mDEBUG   \u001b[0m | \u001b[36mtwscrape.queue_client\u001b[0m:\u001b[36m_check_rep\u001b[0m:\u001b[36m146\u001b[0m - \u001b[34m\u001b[1mRate limited: 200 -  0/50 - badeebo - OK\u001b[0m\n",
      "\u001b[32m2024-10-04 00:24:41.817\u001b[0m | \u001b[1mINFO    \u001b[0m | \u001b[36mtwscrape.accounts_pool\u001b[0m:\u001b[36mget_for_queue_or_wait\u001b[0m:\u001b[36m301\u001b[0m - \u001b[1mNo account available for queue \"SearchTimeline\". Next available at 00:38:57\u001b[0m\n",
      "\u001b[32m2024-10-04 00:38:58.011\u001b[0m | \u001b[1mINFO    \u001b[0m | \u001b[36mtwscrape.accounts_pool\u001b[0m:\u001b[36mget_for_queue_or_wait\u001b[0m:\u001b[36m308\u001b[0m - \u001b[1mContinuing with account badeebo on queue SearchTimeline\u001b[0m\n"
     ]
    },
    {
     "name": "stdout",
     "output_type": "stream",
     "text": [
      "2024-09-13 00:00:00\n",
      "2024-09-14 00:00:00\n",
      "2024-09-15 00:00:00\n",
      "2024-09-16 00:00:00\n",
      "2024-09-17 00:00:00\n",
      "2024-09-18 00:00:00\n",
      "2024-09-19 00:00:00\n",
      "2024-09-20 00:00:00\n",
      "2024-09-21 00:00:00\n",
      "2024-09-22 00:00:00\n",
      "2024-09-23 00:00:00\n",
      "2024-09-24 00:00:00\n",
      "2024-09-25 00:00:00\n",
      "2024-09-26 00:00:00\n",
      "2024-09-27 00:00:00\n"
     ]
    },
    {
     "name": "stderr",
     "output_type": "stream",
     "text": [
      "\u001b[32m2024-10-04 00:39:42.502\u001b[0m | \u001b[34m\u001b[1mDEBUG   \u001b[0m | \u001b[36mtwscrape.queue_client\u001b[0m:\u001b[36m_check_rep\u001b[0m:\u001b[36m146\u001b[0m - \u001b[34m\u001b[1mRate limited: 200 -  0/50 - badeebo - OK\u001b[0m\n",
      "\u001b[32m2024-10-04 00:39:42.512\u001b[0m | \u001b[1mINFO    \u001b[0m | \u001b[36mtwscrape.accounts_pool\u001b[0m:\u001b[36mget_for_queue_or_wait\u001b[0m:\u001b[36m301\u001b[0m - \u001b[1mNo account available for queue \"SearchTimeline\". Next available at 00:53:58\u001b[0m\n",
      "\u001b[32m2024-10-04 00:54:03.671\u001b[0m | \u001b[1mINFO    \u001b[0m | \u001b[36mtwscrape.accounts_pool\u001b[0m:\u001b[36mget_for_queue_or_wait\u001b[0m:\u001b[36m308\u001b[0m - \u001b[1mContinuing with account badeebo on queue SearchTimeline\u001b[0m\n"
     ]
    },
    {
     "name": "stdout",
     "output_type": "stream",
     "text": [
      "2024-09-28 00:00:00\n",
      "2024-09-29 00:00:00\n",
      "2024-09-30 00:00:00\n",
      "output file: Tweets/tweets_sep24.json\n",
      "2024-10-01 00:00:00\n"
     ]
    }
   ],
   "source": [
    "data_json = []\n",
    "start_date = datetime(2024, 6, 1)\n",
    "end_date = datetime(2024, 10, 1)\n",
    "\n",
    "# Iterate through dates\n",
    "current_date = start_date\n",
    "while current_date <= end_date:\n",
    "    print(current_date)\n",
    "    # temp = await gather(api.search(q=f'{topic} {source} lang:en \\\n",
    "    temp = await gather(api.search(q=f'{topic} lang:en \\\n",
    "                                   until:{(current_date  + timedelta(days=1)).strftime('%Y-%m-%d')} \\\n",
    "                                    since:{current_date.strftime('%Y-%m-%d')}', limit=50))  # list[Tweet]\n",
    "    temp_json = [tweet.json() for tweet in temp]\n",
    "    data_json.extend(temp_json)\n",
    "    current_date += timedelta(days=1)\n",
    "    if (current_date != start_date) and current_date.day == 1:\n",
    "        # Output tweets to json file\n",
    "        f_name = f'Tweets/tweets_{(current_date - timedelta(days=1)).strftime('%b%y').lower()}.json'\n",
    "        with open(f_name, 'w') as out:\n",
    "            json.dump(data_json, out, indent=4)\n",
    "            print(f'output file: {f_name}')\n",
    "        data_json = []"
   ]
  },
  {
   "cell_type": "code",
   "execution_count": 73,
   "metadata": {},
   "outputs": [],
   "source": [
    "# Load the JSON data from the file\n",
    "with open(\"tweets.json\", \"r\") as file:\n",
    "    data_tweets = json.load(file)"
   ]
  }
 ],
 "metadata": {
  "kernelspec": {
   "display_name": "Python 3",
   "language": "python",
   "name": "python3"
  },
  "language_info": {
   "codemirror_mode": {
    "name": "ipython",
    "version": 3
   },
   "file_extension": ".py",
   "mimetype": "text/x-python",
   "name": "python",
   "nbconvert_exporter": "python",
   "pygments_lexer": "ipython3",
   "version": "3.12.2"
  }
 },
 "nbformat": 4,
 "nbformat_minor": 2
}
